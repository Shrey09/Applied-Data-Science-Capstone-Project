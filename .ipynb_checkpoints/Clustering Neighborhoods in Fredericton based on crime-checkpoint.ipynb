{
 "cells": [
  {
   "cell_type": "markdown",
   "metadata": {},
   "source": [
    "# Segmenting and Clustering Neighborhoods in Fredericton"
   ]
  },
  {
   "cell_type": "markdown",
   "metadata": {},
   "source": [
    "## Applied Data Science Capstone Project Report (By: Shrey Amin)"
   ]
  },
  {
   "cell_type": "markdown",
   "metadata": {},
   "source": [
    "## Introduction / Problem Statement"
   ]
  },
  {
   "cell_type": "markdown",
   "metadata": {},
   "source": [
    "Fredericton is the Capital City of the only Canadian fully-bilingual Province of New Brunswick  While one of the least populated provincial capital cities with a population base of less than 60 thousand residents, it offers a wide spectrum of venues and is a governement, university and cultural hub.The City of Fredericton provides open data for everyone and encourages entrepreneurial use to develop services for the benefit of its ciitzens. Through this we can perform Exploratory data analysis to get details regarding the crimes occurred in the city of Fredericton. Following are some of the questions which can be answered.\n",
    "\n",
    "1. What neighbourhoods have the highest crime?\n",
    "2. Is population density correlated to crime level?\n",
    "3. Using Foursquare data, what venues are most common in different locations within the city?\n",
    "4. Does the Knowledge Park really need a coffee shop?\n",
    "\n",
    "Let's find out."
   ]
  },
  {
   "cell_type": "markdown",
   "metadata": {},
   "source": [
    "## Datasets for project\n",
    "\n",
    "To understand and explore we will need the following City of Fredericton Open Data:\n",
    "\n",
    "1. Open Data Site: http://data-fredericton.opendata.arcgis.com/\n",
    "2. Fredericton Neighbourhoods: http://data-fredericton.opendata.arcgis.com/datasets/neighbourhoods--quartiers\n",
    "3. Fredericton Crime by Neighbourhood: http://data-fredericton.opendata.arcgis.com/datasets/crime-by-neighbourhood-2017--crime-par-quartier-2017\n",
    "4. Fredericton Census Tract Demographics: http://data-fredericton.opendata.arcgis.com/datasets/census-tract-demographics--      donn%C3%A9es-d%C3%A9mographiques-du-secteur-de-recensement\n",
    "5. Fredericton locations of interest: https://github.com/JasonLUrquhart/Applied-Data-Science-Capstone/blob/master/Fredericton%20Locations.xlsx\n",
    "6. Foursquare Developers Access to venue data: https://foursquare.com/\n",
    "\n",
    "Using this data will allow exploration and examination to answer the questions. The neighbourhood data will enable us to properly group crime by neighbourhood. The Census data will enable us to then compare the population density to examine if areas of highest crime are also most densely populated. Fredericton locations of interest will then allow us to cluster and quantitatively understand the venues where are highly vulnerable in a neighbourhood."
   ]
  },
  {
   "cell_type": "markdown",
   "metadata": {},
   "source": [
    "## Suggested Steps / Methodology:\n",
    "\n",
    "The methodology will include:\n",
    "\n",
    "1. Loading each data set\n",
    "2. Determine crime frequency by neighbourhood\n",
    "3. Study the crime types based on neighbourhood\n",
    "4. Identify correlation between crimes and population density\n",
    "5. Perform k-means statisical analysis on venues by locations of interest based on findings from crimes and neighbourhood\n",
    "6. Determine which venues are most common statistically in the region of greatest crime count then in all other locations of interest.\n",
    "\n",
    "7. Determine if an area, such as the \"Knowledge Park\" needs a coffee shop."
   ]
  },
  {
   "cell_type": "code",
   "execution_count": null,
   "metadata": {},
   "outputs": [],
   "source": []
  }
 ],
 "metadata": {
  "kernelspec": {
   "display_name": "Python 3",
   "language": "python",
   "name": "python3"
  },
  "language_info": {
   "codemirror_mode": {
    "name": "ipython",
    "version": 3
   },
   "file_extension": ".py",
   "mimetype": "text/x-python",
   "name": "python",
   "nbconvert_exporter": "python",
   "pygments_lexer": "ipython3",
   "version": "3.7.2"
  }
 },
 "nbformat": 4,
 "nbformat_minor": 2
}
